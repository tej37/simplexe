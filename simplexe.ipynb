{
  "nbformat": 4,
  "nbformat_minor": 0,
  "metadata": {
    "colab": {
      "provenance": [],
      "authorship_tag": "ABX9TyPh91BMpansnfymtbEdVR4N",
      "include_colab_link": true
    },
    "kernelspec": {
      "name": "python3",
      "display_name": "Python 3"
    },
    "language_info": {
      "name": "python"
    }
  },
  "cells": [
    {
      "cell_type": "markdown",
      "metadata": {
        "id": "view-in-github",
        "colab_type": "text"
      },
      "source": [
        "<a href=\"https://colab.research.google.com/github/tej37/simplex/blob/main/simplexe.ipynb\" target=\"_parent\"><img src=\"https://colab.research.google.com/assets/colab-badge.svg\" alt=\"Open In Colab\"/></a>"
      ]
    },
    {
      "cell_type": "code",
      "source": [
        "v_d=input('le nombre de variable discret=')\n",
        "print(v_d)"
      ],
      "metadata": {
        "colab": {
          "base_uri": "https://localhost:8080/"
        },
        "id": "5tJ0aOF9AZD9",
        "outputId": "711e3af0-934a-4c79-d582-48a07628b4db"
      },
      "execution_count": null,
      "outputs": [
        {
          "output_type": "stream",
          "name": "stdout",
          "text": [
            "le nombre de variable discret=2\n",
            "2\n"
          ]
        }
      ]
    },
    {
      "cell_type": "code",
      "source": [
        "def swap(tab,col1,col2):\n",
        "  a=tab[col1]\n",
        "  tab[col1]=tab[col2]\n",
        "  tab[col2]=a\n",
        "  return tab"
      ],
      "metadata": {
        "id": "jzv9o-tvR5JU"
      },
      "execution_count": null,
      "outputs": []
    },
    {
      "cell_type": "code",
      "source": [
        "# prompt: make a swap function that swap two columns in a matrix\n",
        "\n",
        "import numpy as np\n",
        "def swap_columns(matrix, col1, col2):\n",
        "  \"\"\"\n",
        "  Swaps two columns in a matrix.\n",
        "\n",
        "  Args:\n",
        "    matrix: The matrix to swap columns in.\n",
        "    col1: The index of the first column to swap.\n",
        "    col2: The index of the second column to swap.\n",
        "\n",
        "  Returns:\n",
        "    The matrix with the two columns swapped.\n",
        "  \"\"\"\n",
        "\n",
        "  # Create a copy of the matrix\n",
        "  new_matrix =matrix.copy()\n",
        "\n",
        "\n",
        "  # Swap the two columns\n",
        "  matrix[:,col1]=matrix[:,col2]\n",
        "  matrix[:,col2]=new_matrix[:,col1]\n",
        "\n",
        "  # Return the new matrix\n",
        "  return matrix\n",
        "\n",
        "# Example usage\n",
        "\n",
        "\n",
        "\n"
      ],
      "metadata": {
        "id": "OYJTSeHaV4rZ"
      },
      "execution_count": null,
      "outputs": []
    },
    {
      "cell_type": "code",
      "source": [
        "import numpy as np\n",
        "import pandas as pd\n",
        "A={'a1':[1, 2, 1],'a2':[1, 1, 0],'a3':[1,0,0],'a4':[0,1,0],'a5':[0,0,1]}\n",
        "dA=pd.DataFrame(A)\n",
        "A_ar=dA.values\n",
        "C={'c1':[3],'c2':[2],'c3':[0],'c4':[0],'c5':[0]}\n",
        "dC=pd.DataFrame(C)\n",
        "C_ar=dC.values\n",
        "b=np.array([80,100,40])\n",
        "b=b.reshape(b.size,1)\n",
        "print(b)\n",
        "print(b.shape)\n",
        "#b=b.reshape(b0)\n",
        "print(A)\n",
        "\n",
        "print(dA)\n",
        "\n",
        "A_s=A_ar.shape\n",
        "print(A_s)\n",
        "dd=pd.DataFrame(A_ar)\n",
        "print(dd)\n",
        "print(dC)\n",
        "print(C_ar.shape)\n",
        "print(C_ar)\n",
        "arr_swap=[]\n",
        "X_res=[]\n",
        "for i in range(A_s[1]):\n",
        "  X_res.append(i)\n",
        "print(X_res)\n",
        "val=\"hh\""
      ],
      "metadata": {
        "colab": {
          "base_uri": "https://localhost:8080/"
        },
        "id": "6LFniZmNf1gH",
        "outputId": "052966d6-00a3-4e42-c277-0ac012b0b3fe"
      },
      "execution_count": null,
      "outputs": [
        {
          "output_type": "stream",
          "name": "stdout",
          "text": [
            "[[ 80]\n",
            " [100]\n",
            " [ 40]]\n",
            "(3, 1)\n",
            "{'a1': [1, 2, 1], 'a2': [1, 1, 0], 'a3': [1, 0, 0], 'a4': [0, 1, 0], 'a5': [0, 0, 1]}\n",
            "   a1  a2  a3  a4  a5\n",
            "0   1   1   1   0   0\n",
            "1   2   1   0   1   0\n",
            "2   1   0   0   0   1\n",
            "(3, 5)\n",
            "   0  1  2  3  4\n",
            "0  1  1  1  0  0\n",
            "1  2  1  0  1  0\n",
            "2  1  0  0  0  1\n",
            "   c1  c2  c3  c4  c5\n",
            "0   3   2   0   0   0\n",
            "(1, 5)\n",
            "[[3 2 0 0 0]]\n",
            "[0, 1, 2, 3, 4]\n"
          ]
        }
      ]
    },
    {
      "cell_type": "code",
      "source": [
        "import numpy as np\n",
        "import pandas as pd\n",
        "A={'a1':[-1, 1, 1],'a2':[4, -1, 1],'a3':[1,0,0],'a4':[0,1,0],'a5':[0,0,1]}\n",
        "dA=pd.DataFrame(A)\n",
        "A_ar=dA.values\n",
        "C={'c1':[20],'c2':[60],'c3':[0],'c4':[0],'c5':[0]}\n",
        "dC=pd.DataFrame(C)\n",
        "C_ar=dC.values\n",
        "b=np.array([60,30,80])\n",
        "b=b.reshape(b.size,1)\n",
        "print(b)\n",
        "print(b.shape)\n",
        "#b=b.reshape(b0)\n",
        "print(A)\n",
        "\n",
        "print(dA)\n",
        "\n",
        "A_s=A_ar.shape\n",
        "print(A_s)\n",
        "dd=pd.DataFrame(A_ar)\n",
        "print(dd)\n",
        "print(dC)\n",
        "print(C_ar.shape)\n",
        "print(C_ar)\n",
        "arr_swap=[]\n",
        "X_res=[]\n",
        "for i in range(A_s[1]):\n",
        "  X_res.append(i)\n",
        "print(X_res)\n",
        "val=\"hh\""
      ],
      "metadata": {
        "colab": {
          "base_uri": "https://localhost:8080/"
        },
        "id": "Gh-hLE7hvVmP",
        "outputId": "fd08024d-9664-4399-f411-84a793c5e26c"
      },
      "execution_count": null,
      "outputs": [
        {
          "output_type": "stream",
          "name": "stdout",
          "text": [
            "[[60]\n",
            " [30]\n",
            " [80]]\n",
            "(3, 1)\n",
            "{'a1': [-1, 1, 1], 'a2': [4, -1, 1], 'a3': [1, 0, 0], 'a4': [0, 1, 0], 'a5': [0, 0, 1]}\n",
            "   a1  a2  a3  a4  a5\n",
            "0  -1   4   1   0   0\n",
            "1   1  -1   0   1   0\n",
            "2   1   1   0   0   1\n",
            "(3, 5)\n",
            "   0  1  2  3  4\n",
            "0 -1  4  1  0  0\n",
            "1  1 -1  0  1  0\n",
            "2  1  1  0  0  1\n",
            "   c1  c2  c3  c4  c5\n",
            "0  20  60   0   0   0\n",
            "(1, 5)\n",
            "[[20 60  0  0  0]]\n",
            "[0, 1, 2, 3, 4]\n"
          ]
        }
      ]
    },
    {
      "cell_type": "code",
      "source": [
        "B=A_ar[:,A_s[1]-A_s[0]:]\n",
        "print(B)\n",
        "B_inv=np.linalg.inv(B)\n",
        "xb=np.dot(B_inv,b)\n",
        "print(xb)\n",
        "print(xb.shape)\n",
        "cb=C_ar[:,A_s[1]-A_s[0]:]\n",
        "print(cb.shape)\n",
        "print(cb)\n",
        "X=[]\n",
        "for i in range(A_s[1]-A_s[0]):\n",
        " X.append(0)\n",
        "for i in range(cb.shape[1]):\n",
        "  X.append(xb[i][0])\n",
        "print(X)"
      ],
      "metadata": {
        "colab": {
          "base_uri": "https://localhost:8080/"
        },
        "id": "14bUGswjw1E1",
        "outputId": "8713e0af-ea78-443e-bd74-f36936c774e9"
      },
      "execution_count": null,
      "outputs": [
        {
          "output_type": "stream",
          "name": "stdout",
          "text": [
            "[[1 0 0]\n",
            " [0 1 0]\n",
            " [0 0 1]]\n",
            "[[60.]\n",
            " [30.]\n",
            " [80.]]\n",
            "(3, 1)\n",
            "(1, 3)\n",
            "[[0 0 0]]\n",
            "[0, 0, 60.0, 30.0, 80.0]\n"
          ]
        }
      ]
    },
    {
      "cell_type": "markdown",
      "source": [
        "etap1 yB=cb"
      ],
      "metadata": {
        "id": "4FxBuI0k4FOS"
      }
    },
    {
      "cell_type": "code",
      "source": [
        "y=cb.dot(B_inv)\n",
        "print(y.shape)\n",
        "print(y)\n",
        "assert y.shape==cb.shape ,'the shape mouch 9ad9ad'\n",
        "print(A_ar[:,0].shape)"
      ],
      "metadata": {
        "colab": {
          "base_uri": "https://localhost:8080/"
        },
        "id": "AaGZ1XwQkH30",
        "outputId": "22a6b459-015f-4933-ad7a-cd89503b22ae"
      },
      "execution_count": null,
      "outputs": [
        {
          "output_type": "stream",
          "name": "stdout",
          "text": [
            "(1, 3)\n",
            "[[ 8.  0. 28.]]\n",
            "(3,)\n"
          ]
        }
      ]
    },
    {
      "cell_type": "markdown",
      "source": [
        "etape 2 les deltat delta_i=ci-y*A_i\n",
        "etape 3 les deltat_i>=0 sinon\n",
        "etape 4 X_e prand l'index du max"
      ],
      "metadata": {
        "id": "lSkMlYWa65Uv"
      }
    },
    {
      "cell_type": "code",
      "source": [
        "c_ar=C_ar.reshape(-1)\n",
        "tej=np.array([44,33,55,66,77])\n",
        "\n",
        "\n",
        "deltat=[]\n",
        "it=A_s[1]-A_s[0]\n",
        "nb=0\n",
        "for i in range(it):\n",
        "  deltat.append((c_ar[i])-(y.dot(A_ar[:,i])))\n",
        "  if(deltat[i]<0):\n",
        "     nb=nb+1\n",
        "if(nb==it):\n",
        "  print(\"finish\")\n",
        "  for i in range(0,len(arr_swap)-1,2):\n",
        "    X_res=swap(X_res,arr_swap[i],arr_swap[i+1])\n",
        "    print(X_res)\n",
        "  for i in range(len(X_res)):\n",
        "    print('X',X_res[i],'=',X[i])\n",
        "else:\n",
        " X_e=deltat.index([max(deltat)])\n",
        " print(max(deltat))\n",
        " print(X_e)"
      ],
      "metadata": {
        "colab": {
          "base_uri": "https://localhost:8080/"
        },
        "id": "TASbpnUajXIg",
        "outputId": "f2138b9b-8f35-4ed1-b7bd-21f690253ca3"
      },
      "execution_count": null,
      "outputs": [
        {
          "output_type": "stream",
          "name": "stdout",
          "text": [
            "finish\n",
            "[4, 1, 2, 3, 0]\n",
            "[0, 1, 2, 3, 4]\n",
            "[4, 1, 2, 3, 0]\n",
            "[0, 1, 2, 3, 4]\n",
            "X 0 = 0\n",
            "X 1 = 0\n",
            "X 2 = 28.0\n",
            "X 3 = 5.999999999999993\n",
            "X 4 = 52.0\n"
          ]
        }
      ]
    },
    {
      "cell_type": "markdown",
      "source": [
        " etape5 B*alpha=A_e"
      ],
      "metadata": {
        "id": "9crdEtTZtg9h"
      }
    },
    {
      "cell_type": "code",
      "source": [
        "print(A_ar[:,X_e].shape)\n",
        "print(B_inv.shape)\n",
        "alpha=B_inv.dot(A_ar[:,X_e])\n",
        "assert alpha.shape==A_ar[:,X_e].shape , 'the shape mouch 9ad9ad'\n",
        "print(alpha)"
      ],
      "metadata": {
        "colab": {
          "base_uri": "https://localhost:8080/"
        },
        "id": "Prplb_0erBPx",
        "outputId": "66b0656a-4226-49cd-9f4a-f5295429e6e4"
      },
      "execution_count": null,
      "outputs": [
        {
          "output_type": "stream",
          "name": "stdout",
          "text": [
            "(3,)\n",
            "(3, 3)\n",
            "[-0.25  0.75  1.25]\n"
          ]
        }
      ]
    },
    {
      "cell_type": "markdown",
      "source": [
        "etape6 teta*"
      ],
      "metadata": {
        "id": "vB9dPQ0xw8OD"
      }
    },
    {
      "cell_type": "code",
      "source": [
        "tetaetoile=0\n",
        "for i in range(A_s[0]):\n",
        " if (alpha[i]>0):\n",
        "  mine=xb[i]/alpha[i]\n",
        "for i in range(A_s[0]):\n",
        " if (alpha[i]>0):\n",
        "\n",
        "  teta=xb[i]/alpha[i]\n",
        "  if(teta<=mine):\n",
        "    mine=teta\n",
        "    tetaetoile=teta\n",
        "    X_s=it+i\n",
        "\n",
        "if(tetaetoile==0):\n",
        "   print(\"la sol est non linaire\")\n",
        "else:\n",
        " # print(tetaetoile)\n",
        "  print(X_s)\n"
      ],
      "metadata": {
        "id": "eQsgUD0Gw_sx",
        "colab": {
          "base_uri": "https://localhost:8080/"
        },
        "outputId": "c0c60333-6b23-483d-a736-9feb96d976de"
      },
      "execution_count": null,
      "outputs": [
        {
          "output_type": "stream",
          "name": "stdout",
          "text": [
            "4\n"
          ]
        }
      ]
    },
    {
      "cell_type": "markdown",
      "source": [
        "etape7 initialisation"
      ],
      "metadata": {
        "id": "5kMXLIUINOMN"
      }
    },
    {
      "cell_type": "code",
      "source": [
        "print(A_ar)\n",
        "#A_ar[:,X_e],A_ar[:,X_s]=A_ar[:,X_s],A_ar[:,X_e]\n",
        "\n",
        "print(A_ar)\n",
        "\n"
      ],
      "metadata": {
        "colab": {
          "base_uri": "https://localhost:8080/"
        },
        "id": "WNDmhUcLNSGO",
        "outputId": "4c94e2c4-0977-44fe-9250-ff74182a9ce0"
      },
      "execution_count": null,
      "outputs": [
        {
          "output_type": "stream",
          "name": "stdout",
          "text": [
            "[[-1  1  4  0  0]\n",
            " [ 1  0 -1  1  0]\n",
            " [ 1  0  1  0  1]]\n",
            "[[-1  1  4  0  0]\n",
            " [ 1  0 -1  1  0]\n",
            " [ 1  0  1  0  1]]\n"
          ]
        }
      ]
    },
    {
      "cell_type": "code",
      "source": [
        "# Swap A\n",
        "A_ar = swap_columns(A_ar, X_s, X_e)\n",
        "print(A_ar)\n",
        "# swap C\n",
        "C_ar=swap_columns(C_ar, X_s, X_e)\n",
        "print(C_ar)\n"
      ],
      "metadata": {
        "colab": {
          "base_uri": "https://localhost:8080/"
        },
        "id": "qJhWKuB1cjLq",
        "outputId": "9ad722de-0c78-460d-9268-70ed286def30"
      },
      "execution_count": null,
      "outputs": [
        {
          "output_type": "stream",
          "name": "stdout",
          "text": [
            "[[ 0  1  4  0 -1]\n",
            " [ 0  0 -1  1  1]\n",
            " [ 1  0  1  0  1]]\n",
            "[[ 0  0 60  0 20]]\n"
          ]
        }
      ]
    },
    {
      "cell_type": "code",
      "source": [
        "B=A_ar[:,A_s[1]-A_s[0]:]\n",
        "print(B)\n",
        "B_inv=np.linalg.inv(B)\n",
        "xb=np.dot(B_inv,b)\n",
        "print(xb)\n",
        "print(xb.shape)\n",
        "cb=C_ar[:,A_s[1]-A_s[0]:]\n",
        "print(cb.shape)\n",
        "print(cb)\n",
        "X=[]\n",
        "for i in range(A_s[1]-A_s[0]):\n",
        " X.append(0)\n",
        "for i in range(cb.shape[1]):\n",
        "  X.append(xb[i][0])\n",
        "print(X)"
      ],
      "metadata": {
        "colab": {
          "base_uri": "https://localhost:8080/"
        },
        "id": "o0wKUS77hIce",
        "outputId": "0e2bf2db-cc98-4055-dc64-016235096cc6"
      },
      "execution_count": null,
      "outputs": [
        {
          "output_type": "stream",
          "name": "stdout",
          "text": [
            "[[ 4  0 -1]\n",
            " [-1  1  1]\n",
            " [ 1  0  1]]\n",
            "[[28.]\n",
            " [ 6.]\n",
            " [52.]]\n",
            "(3, 1)\n",
            "(1, 3)\n",
            "[[60  0 20]]\n",
            "[0, 0, 28.0, 5.999999999999993, 52.0]\n"
          ]
        }
      ]
    },
    {
      "cell_type": "code",
      "source": [
        "arr_swap.append(X_e)\n",
        "arr_swap.append(X_s)\n",
        "print(arr_swap)"
      ],
      "metadata": {
        "colab": {
          "base_uri": "https://localhost:8080/"
        },
        "id": "MLvwZ1AkhUvv",
        "outputId": "0d92801b-7276-4d6e-e5c3-d07598e222cf"
      },
      "execution_count": null,
      "outputs": [
        {
          "output_type": "stream",
          "name": "stdout",
          "text": [
            "[1, 2, 0, 4, 0, 4, 0, 4]\n"
          ]
        }
      ]
    },
    {
      "cell_type": "code",
      "source": [
        "while(val!=\"finish\"):\n",
        " print('2-3-4###################')\n",
        " c_ar=C_ar.reshape(-1)\n",
        " tej=np.array([44,33,55,66,77])\n",
        "\n",
        "\n",
        " deltat=[]\n",
        " it=A_s[1]-A_s[0]\n",
        " nb=0\n",
        "\n",
        "\n",
        " for i in range(it):\n",
        "   deltat.append((c_ar[i])-(y.dot(A_ar[:,i])))\n",
        "   if(deltat[i]<0):\n",
        "      nb=nb+1\n",
        " if(nb==it):\n",
        "   val=\"finish\"\n",
        "   print(\"finish\")\n",
        "   for i in range(0,len(arr_swap)-1,2):\n",
        "     X_res=swap(X_res,arr_swap[i],arr_swap[i+1])\n",
        "     print(X_res)\n",
        "   for i in range(len(X_res)):\n",
        "     print('X',X_res[i],'=',X[i])\n",
        " else:\n",
        "  X_e=deltat.index([max(deltat)])\n",
        "  print(max(deltat))\n",
        "  print(X_e)\n",
        "  print('5-##########################')\n",
        "  print(A_ar[:,X_e].shape)\n",
        "  print(B_inv.shape)\n",
        "  alpha=B_inv.dot(A_ar[:,X_e])\n",
        "  assert alpha.shape==A_ar[:,X_e].shape , 'the shape mouch 9ad9ad'\n",
        "  print(alpha)\n",
        "  print('6-####################')\n",
        "  tetaetoile=0\n",
        "  for i in range(A_s[0]):\n",
        "   if (alpha[i]>0):\n",
        "    mine=xb[i]/alpha[i]\n",
        "  for i in range(A_s[0]):\n",
        "   if (alpha[i]>0):\n",
        "\n",
        "    teta=xb[i]/alpha[i]\n",
        "    if(teta<=mine):\n",
        "      mine=teta\n",
        "      tetaetoile=teta\n",
        "      X_s=it+i\n",
        "\n",
        "  if(tetaetoile==0):\n",
        "     print(\"la sol est non linaire\")\n",
        "  else:\n",
        "   # print(tetaetoile)\n",
        "    print(X_s)\n",
        "  print('7-##################')\n",
        "  # Swap A\n",
        "  A_ar = swap_columns(A_ar, X_s, X_e)\n",
        "  print(A_ar)\n",
        "  # swap C\n",
        "  C_ar=swap_columns(C_ar, X_s, X_e)\n",
        "  print(C_ar)\n",
        "  print('7-#######################')\n",
        "  B=A_ar[:,A_s[1]-A_s[0]:]\n",
        "  print(B)\n",
        "  B_inv=np.linalg.inv(B)\n",
        "  xb=np.dot(B_inv,b)\n",
        "  print(xb)\n",
        "  print(xb.shape)\n",
        "  cb=C_ar[:,A_s[1]-A_s[0]:]\n",
        "  print(cb.shape)\n",
        "  print(cb)\n",
        "  X=[]\n",
        "  for i in range(A_s[1]-A_s[0]):\n",
        "   X.append(0)\n",
        "  for i in range(cb.shape[1]):\n",
        "   X.append(xb[i][0])\n",
        "  print(X)\n",
        "  print('swap-###########################')\n",
        "  arr_swap.append(X_e)\n",
        "  arr_swap.append(X_s)\n",
        "  print(arr_swap)\n",
        "  print('1-###############################')\n",
        "  y=cb.dot(B_inv)\n",
        "  print(y.shape)\n",
        "  print(y)\n",
        "  assert y.shape==cb.shape ,'the shape mouch 9ad9ad'\n",
        "  print(A_ar[:,0].shape)\n"
      ],
      "metadata": {
        "colab": {
          "base_uri": "https://localhost:8080/"
        },
        "id": "fFY3FhDlhaIu",
        "outputId": "078502e4-e942-4bf2-c878-4bb0e7559aa6"
      },
      "execution_count": null,
      "outputs": [
        {
          "output_type": "stream",
          "name": "stdout",
          "text": [
            "2-3-4###################\n",
            "[60.]\n",
            "1\n",
            "5-##########################\n",
            "(3,)\n",
            "(3, 3)\n",
            "[ 4. -1.  1.]\n",
            "6-####################\n",
            "2\n",
            "7-##################\n",
            "[[-1  1  4  0  0]\n",
            " [ 1  0 -1  1  0]\n",
            " [ 1  0  1  0  1]]\n",
            "[[20  0 60  0  0]]\n",
            "7-#######################\n",
            "[[ 4  0  0]\n",
            " [-1  1  0]\n",
            " [ 1  0  1]]\n",
            "[[15.]\n",
            " [45.]\n",
            " [65.]]\n",
            "(3, 1)\n",
            "(1, 3)\n",
            "[[60  0  0]]\n",
            "[0, 0, 15.0, 45.0, 65.0]\n",
            "swap-###########################\n",
            "[1, 2]\n",
            "1-###############################\n",
            "(1, 3)\n",
            "[[15.  0.  0.]]\n",
            "(3,)\n",
            "2-3-4###################\n",
            "[35.]\n",
            "0\n",
            "5-##########################\n",
            "(3,)\n",
            "(3, 3)\n",
            "[-0.25  0.75  1.25]\n",
            "6-####################\n",
            "4\n",
            "7-##################\n",
            "[[ 0  1  4  0 -1]\n",
            " [ 0  0 -1  1  1]\n",
            " [ 1  0  1  0  1]]\n",
            "[[ 0  0 60  0 20]]\n",
            "7-#######################\n",
            "[[ 4  0 -1]\n",
            " [-1  1  1]\n",
            " [ 1  0  1]]\n",
            "[[28.]\n",
            " [ 6.]\n",
            " [52.]]\n",
            "(3, 1)\n",
            "(1, 3)\n",
            "[[60  0 20]]\n",
            "[0, 0, 28.0, 5.999999999999993, 52.0]\n",
            "swap-###########################\n",
            "[1, 2, 0, 4]\n",
            "1-###############################\n",
            "(1, 3)\n",
            "[[ 8.  0. 28.]]\n",
            "(3,)\n",
            "2-3-4###################\n",
            "finish\n",
            "[0, 2, 1, 3, 4]\n",
            "[4, 2, 1, 3, 0]\n",
            "X 4 = 0\n",
            "X 2 = 0\n",
            "X 1 = 28.0\n",
            "X 3 = 5.999999999999993\n",
            "X 0 = 52.0\n"
          ]
        }
      ]
    }
  ]
}